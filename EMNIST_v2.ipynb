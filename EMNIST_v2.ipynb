{
  "nbformat": 4,
  "nbformat_minor": 0,
  "metadata": {
    "colab": {
      "name": "EMNIST_v2.ipynb",
      "provenance": [],
      "collapsed_sections": [],
      "authorship_tag": "ABX9TyPzcG9BaUywhfBQy+qukoCd",
      "include_colab_link": true
    },
    "kernelspec": {
      "name": "python3",
      "display_name": "Python 3"
    }
  },
  "cells": [
    {
      "cell_type": "markdown",
      "metadata": {
        "id": "view-in-github",
        "colab_type": "text"
      },
      "source": [
        "<a href=\"https://colab.research.google.com/github/Jun-Liu-291/OCR-/blob/master/EMNIST_v2.ipynb\" target=\"_parent\"><img src=\"https://colab.research.google.com/assets/colab-badge.svg\" alt=\"Open In Colab\"/></a>"
      ]
    },
    {
      "cell_type": "code",
      "metadata": {
        "id": "ZTZcrbaYWroH",
        "colab_type": "code",
        "colab": {
          "base_uri": "https://localhost:8080/",
          "height": 122
        },
        "outputId": "72c131c3-d2c7-427a-cf45-fefbc727f21a"
      },
      "source": [
        "from google.colab import drive\n",
        "drive.mount('/content/drive/')"
      ],
      "execution_count": null,
      "outputs": [
        {
          "output_type": "stream",
          "text": [
            "Go to this URL in a browser: https://accounts.google.com/o/oauth2/auth?client_id=947318989803-6bn6qk8qdgf4n4g3pfee6491hc0brc4i.apps.googleusercontent.com&redirect_uri=urn%3aietf%3awg%3aoauth%3a2.0%3aoob&response_type=code&scope=email%20https%3a%2f%2fwww.googleapis.com%2fauth%2fdocs.test%20https%3a%2f%2fwww.googleapis.com%2fauth%2fdrive%20https%3a%2f%2fwww.googleapis.com%2fauth%2fdrive.photos.readonly%20https%3a%2f%2fwww.googleapis.com%2fauth%2fpeopleapi.readonly\n",
            "\n",
            "Enter your authorization code:\n",
            "··········\n",
            "Mounted at /content/drive/\n"
          ],
          "name": "stdout"
        }
      ]
    },
    {
      "cell_type": "code",
      "metadata": {
        "id": "5U3BFVa9W2Xz",
        "colab_type": "code",
        "colab": {
          "base_uri": "https://localhost:8080/",
          "height": 34
        },
        "outputId": "4948cf53-f1eb-40eb-8bcb-91fefea0b5b9"
      },
      "source": [
        "import numpy as np\n",
        "import pandas as pd\n",
        "import keras\n",
        "import numpy as np\n",
        "import matplotlib.pyplot as plt\n",
        "import pandas as pd\n",
        "\n",
        "import sys\n",
        "\n",
        "sys.path.append('/content/drive/My Drive/Colab Notebooks')"
      ],
      "execution_count": null,
      "outputs": [
        {
          "output_type": "stream",
          "text": [
            "Using TensorFlow backend.\n"
          ],
          "name": "stderr"
        }
      ]
    },
    {
      "cell_type": "code",
      "metadata": {
        "id": "ITtr__XuXrXJ",
        "colab_type": "code",
        "colab": {
          "base_uri": "https://localhost:8080/",
          "height": 51
        },
        "outputId": "a70aa606-49bb-41e2-adb6-0d216097729d"
      },
      "source": [
        "%cd /content/drive/My Drive/dataset/EMNIST\n",
        "\n",
        "!pwd"
      ],
      "execution_count": null,
      "outputs": [
        {
          "output_type": "stream",
          "text": [
            "/content/drive/My Drive/dataset/EMNIST\n",
            "/content/drive/My Drive/dataset/EMNIST\n"
          ],
          "name": "stdout"
        }
      ]
    },
    {
      "cell_type": "code",
      "metadata": {
        "id": "E1JEM4r7XFRW",
        "colab_type": "code",
        "colab": {}
      },
      "source": [
        "from emnist_preprocessing import show_img\n",
        "from emnist_preprocessing import load_data_label"
      ],
      "execution_count": null,
      "outputs": []
    },
    {
      "cell_type": "code",
      "metadata": {
        "id": "0ADtqHKnXTkm",
        "colab_type": "code",
        "colab": {
          "base_uri": "https://localhost:8080/",
          "height": 34
        },
        "outputId": "0ff5c422-8f66-453e-e7ca-2f97f12bce12"
      },
      "source": [
        "train_data_path = 'emnist-balanced-train.csv'\n",
        "test_data_path = 'emnist-balanced-test.csv'\n",
        "\n",
        "train_data = pd.read_csv(train_data_path, header=None)\n",
        "test_data = pd.read_csv(test_data_path, header=None)\n",
        "\n",
        "train_data.shape\n",
        "test_data.shape"
      ],
      "execution_count": null,
      "outputs": [
        {
          "output_type": "execute_result",
          "data": {
            "text/plain": [
              "(18800, 785)"
            ]
          },
          "metadata": {
            "tags": []
          },
          "execution_count": 5
        }
      ]
    },
    {
      "cell_type": "code",
      "metadata": {
        "id": "_oc0zComYmuO",
        "colab_type": "code",
        "colab": {}
      },
      "source": [
        "class_mapping = '0123456789ABCDEFGHIJKLMNOPQRSTUVWXYZabdefghnqrt'\n",
        "\n",
        "num_classes = len(class_mapping)"
      ],
      "execution_count": null,
      "outputs": []
    },
    {
      "cell_type": "code",
      "metadata": {
        "id": "3y9mVCuuYvo5",
        "colab_type": "code",
        "colab": {
          "base_uri": "https://localhost:8080/",
          "height": 281
        },
        "outputId": "8df40d51-ece4-4196-a352-c8c3b4e0e670"
      },
      "source": [
        "show_img(train_data, 1220)"
      ],
      "execution_count": null,
      "outputs": [
        {
          "output_type": "display_data",
          "data": {
            "image/png": "[encoded data removed]",
            "text/plain": [
              "<Figure size 432x288 with 1 Axes>"
            ]
          },
          "metadata": {
            "tags": [],
            "needs_background": "light"
          }
        }
      ]
    },
    {
      "cell_type": "code",
      "metadata": {
        "id": "5cPxp0LfYyw6",
        "colab_type": "code",
        "colab": {
          "base_uri": "https://localhost:8080/",
          "height": 51
        },
        "outputId": "a721cb01-b165-4823-c93f-b1635d8afc09"
      },
      "source": [
        "X, y = load_data_label(train_data_path)\n",
        "print('The data shape is: ',X.shape)\n",
        "print('The label shape is: ',y.shape)"
      ],
      "execution_count": null,
      "outputs": [
        {
          "output_type": "stream",
          "text": [
            "The data shape is:  (112800, 28, 28, 1)\n",
            "The label shape is:  (112800, 47)\n"
          ],
          "name": "stdout"
        }
      ]
    },
    {
      "cell_type": "code",
      "metadata": {
        "id": "Pz2ozeBGY17o",
        "colab_type": "code",
        "colab": {}
      },
      "source": [
        "data_generator = keras.preprocessing.image.ImageDataGenerator(\n",
        "    validation_split = 0.1,\n",
        "    rotation_range = 15,\n",
        "    width_shift_range = .15,\n",
        "    height_shift_range = .15,\n",
        ")\n",
        "\n",
        "training_data_generator = data_generator.flow(X, y, subset='training')\n",
        "validation_data_generator = data_generator.flow(X, y, subset='validation')"
      ],
      "execution_count": null,
      "outputs": []
    },
    {
      "cell_type": "code",
      "metadata": {
        "id": "iXuOyeenY3zb",
        "colab_type": "code",
        "colab": {
          "base_uri": "https://localhost:8080/",
          "height": 935
        },
        "outputId": "5bf01357-4b77-4227-c779-a4c0caa503ce"
      },
      "source": [
        "model = keras.models.Sequential()\n",
        "model.add(keras.layers.Conv2D(32, (3,3), padding = 'same', input_shape=(28,28,1)))\n",
        "model.add(keras.layers.LeakyReLU())\n",
        "model.add(keras.layers.Conv2D(32, (3,3), padding = 'same'))\n",
        "model.add(keras.layers.LeakyReLU())\n",
        "model.add(keras.layers.MaxPooling2D())\n",
        "model.add(keras.layers.Conv2D(64, (3,3), padding = 'same'))\n",
        "model.add(keras.layers.LeakyReLU())\n",
        "model.add(keras.layers.Conv2D(64, (3,3), padding = 'same'))\n",
        "model.add(keras.layers.LeakyReLU())\n",
        "model.add(keras.layers.MaxPooling2D())\n",
        "model.add(keras.layers.Conv2D(128, (3,3), padding = 'same'))\n",
        "model.add(keras.layers.LeakyReLU())\n",
        "model.add(keras.layers.Conv2D(128, (3,3), padding = 'same'))\n",
        "model.add(keras.layers.LeakyReLU())\n",
        "model.add(keras.layers.Conv2D(128, (3,3), padding = 'same'))\n",
        "model.add(keras.layers.LeakyReLU())\n",
        "model.add(keras.layers.Dropout(0.3))\n",
        "model.add(keras.layers.Flatten())\n",
        "model.add(keras.layers.Dense(512))\n",
        "model.add(keras.layers.LeakyReLU())\n",
        "model.add(keras.layers.Dense(512))\n",
        "model.add(keras.layers.LeakyReLU())\n",
        "model.add(keras.layers.Dense(num_classes, activation = 'softmax'))\n",
        "\n",
        "model.summary()"
      ],
      "execution_count": null,
      "outputs": [
        {
          "output_type": "stream",
          "text": [
            "Model: \"sequential_1\"\n",
            "_________________________________________________________________\n",
            "Layer (type)                 Output Shape              Param #   \n",
            "=================================================================\n",
            "conv2d_1 (Conv2D)            (None, 28, 28, 32)        320       \n",
            "_________________________________________________________________\n",
            "leaky_re_lu_1 (LeakyReLU)    (None, 28, 28, 32)        0         \n",
            "_________________________________________________________________\n",
            "conv2d_2 (Conv2D)            (None, 28, 28, 32)        9248      \n",
            "_________________________________________________________________\n",
            "leaky_re_lu_2 (LeakyReLU)    (None, 28, 28, 32)        0         \n",
            "_________________________________________________________________\n",
            "max_pooling2d_1 (MaxPooling2 (None, 14, 14, 32)        0         \n",
            "_________________________________________________________________\n",
            "conv2d_3 (Conv2D)            (None, 14, 14, 64)        18496     \n",
            "_________________________________________________________________\n",
            "leaky_re_lu_3 (LeakyReLU)    (None, 14, 14, 64)        0         \n",
            "_________________________________________________________________\n",
            "conv2d_4 (Conv2D)            (None, 14, 14, 64)        36928     \n",
            "_________________________________________________________________\n",
            "leaky_re_lu_4 (LeakyReLU)    (None, 14, 14, 64)        0         \n",
            "_________________________________________________________________\n",
            "max_pooling2d_2 (MaxPooling2 (None, 7, 7, 64)          0         \n",
            "_________________________________________________________________\n",
            "conv2d_5 (Conv2D)            (None, 7, 7, 128)         73856     \n",
            "_________________________________________________________________\n",
            "leaky_re_lu_5 (LeakyReLU)    (None, 7, 7, 128)         0         \n",
            "_________________________________________________________________\n",
            "conv2d_6 (Conv2D)            (None, 7, 7, 128)         147584    \n",
            "_________________________________________________________________\n",
            "leaky_re_lu_6 (LeakyReLU)    (None, 7, 7, 128)         0         \n",
            "_________________________________________________________________\n",
            "conv2d_7 (Conv2D)            (None, 7, 7, 128)         147584    \n",
            "_________________________________________________________________\n",
            "leaky_re_lu_7 (LeakyReLU)    (None, 7, 7, 128)         0         \n",
            "_________________________________________________________________\n",
            "dropout_1 (Dropout)          (None, 7, 7, 128)         0         \n",
            "_________________________________________________________________\n",
            "flatten_1 (Flatten)          (None, 6272)              0         \n",
            "_________________________________________________________________\n",
            "dense_1 (Dense)              (None, 512)               3211776   \n",
            "_________________________________________________________________\n",
            "leaky_re_lu_8 (LeakyReLU)    (None, 512)               0         \n",
            "_________________________________________________________________\n",
            "dense_2 (Dense)              (None, 512)               262656    \n",
            "_________________________________________________________________\n",
            "leaky_re_lu_9 (LeakyReLU)    (None, 512)               0         \n",
            "_________________________________________________________________\n",
            "dense_3 (Dense)              (None, 47)                24111     \n",
            "=================================================================\n",
            "Total params: 3,932,559\n",
            "Trainable params: 3,932,559\n",
            "Non-trainable params: 0\n",
            "_________________________________________________________________\n"
          ],
          "name": "stdout"
        }
      ]
    },
    {
      "cell_type": "code",
      "metadata": {
        "id": "Qib_726IaYsD",
        "colab_type": "code",
        "colab": {}
      },
      "source": [
        "# setting the optimizer and learning rate\n",
        "learning_rate = 1e-3\n",
        "optimizer = keras.optimizers.Adam(learning_rate = learning_rate)\n",
        "  \n",
        "# Compile the model with the optimizer and learning rate specified in hpyarams\n",
        "model.compile(optimizer = optimizer,\n",
        "              loss = 'categorical_crossentropy',\n",
        "              metrics = ['acc'])"
      ],
      "execution_count": null,
      "outputs": []
    },
    {
      "cell_type": "code",
      "metadata": {
        "id": "kuLFx-gDaciE",
        "colab_type": "code",
        "colab": {}
      },
      "source": [
        "\n",
        "# change callback function\n",
        "# apply ReduceLRonPlateau for changing LR\n",
        "reduceLR = keras.callbacks.ReduceLROnPlateau(\n",
        "    monitor=\"loss\",\n",
        "    factor = 0.5,\n",
        "    patience = 5,\n",
        "    verbose = 1,\n",
        "    mode = 'min',\n",
        "    min_lr = 1e-7)\n",
        "\n",
        "# save whole model when get a better val accuracy\n",
        "checkpoint = keras.callbacks.ModelCheckpoint(\n",
        "    filepath = 'EMNIST_t2.{epoch:02d}-{val_loss:.2f}.hdf5',\n",
        "    monitor='val_acc',\n",
        "    mode='max',\n",
        "    save_weights_only = False,\n",
        "    save_best_only = True\n",
        ")\n",
        "\n",
        "my_callbacks = [reduceLR, checkpoint]\n",
        "\n",
        "lr_schedule = keras.callbacks.LearningRateScheduler(lambda epoch: 1e-5 * 10**(epoch / 10))"
      ],
      "execution_count": null,
      "outputs": []
    },
    {
      "cell_type": "code",
      "metadata": {
        "id": "9PhmQj5GafOr",
        "colab_type": "code",
        "colab": {
          "base_uri": "https://localhost:8080/",
          "height": 1000
        },
        "outputId": "2e4fee7b-1a91-4c58-a993-2b6e6cd2a09c"
      },
      "source": [
        "history = model.fit_generator(training_data_generator, \n",
        "                              steps_per_epoch=500, epochs=200,\n",
        "                              validation_data=validation_data_generator,\n",
        "                              callbacks = my_callbacks)"
      ],
      "execution_count": null,
      "outputs": [
        {
          "output_type": "stream",
          "text": [
            "Epoch 1/200\n",
            "500/500 [==============================] - 168s 335ms/step - loss: 1.6986 - acc: 0.4996 - val_loss: 0.7736 - val_acc: 0.6902\n",
            "Epoch 2/200\n",
            "500/500 [==============================] - 166s 332ms/step - loss: 0.8734 - acc: 0.7157 - val_loss: 0.9274 - val_acc: 0.7264\n",
            "Epoch 3/200\n",
            "500/500 [==============================] - 168s 336ms/step - loss: 0.7551 - acc: 0.7484 - val_loss: 0.9352 - val_acc: 0.7548\n",
            "Epoch 4/200\n",
            "500/500 [==============================] - 170s 339ms/step - loss: 0.6978 - acc: 0.7642 - val_loss: 0.7891 - val_acc: 0.7827\n",
            "Epoch 5/200\n",
            "500/500 [==============================] - 169s 339ms/step - loss: 0.6597 - acc: 0.7757 - val_loss: 0.8622 - val_acc: 0.7768\n",
            "Epoch 6/200\n",
            "500/500 [==============================] - 173s 346ms/step - loss: 0.6537 - acc: 0.7768 - val_loss: 0.7651 - val_acc: 0.7846\n",
            "Epoch 7/200\n",
            "500/500 [==============================] - 169s 337ms/step - loss: 0.6225 - acc: 0.7852 - val_loss: 0.2752 - val_acc: 0.7891\n",
            "Epoch 8/200\n",
            "500/500 [==============================] - 169s 339ms/step - loss: 0.6075 - acc: 0.7959 - val_loss: 0.8857 - val_acc: 0.7986\n",
            "Epoch 9/200\n",
            "500/500 [==============================] - 174s 347ms/step - loss: 0.5997 - acc: 0.7972 - val_loss: 0.4509 - val_acc: 0.7864\n",
            "Epoch 10/200\n",
            "500/500 [==============================] - 168s 336ms/step - loss: 0.5858 - acc: 0.8018 - val_loss: 0.4346 - val_acc: 0.8119\n",
            "Epoch 11/200\n",
            "500/500 [==============================] - 167s 333ms/step - loss: 0.5817 - acc: 0.8023 - val_loss: 0.5709 - val_acc: 0.8009\n",
            "Epoch 12/200\n",
            "500/500 [==============================] - 166s 332ms/step - loss: 0.5760 - acc: 0.8000 - val_loss: 0.5501 - val_acc: 0.8104\n",
            "Epoch 13/200\n",
            "500/500 [==============================] - 170s 341ms/step - loss: 0.5709 - acc: 0.7982 - val_loss: 0.1740 - val_acc: 0.8078\n",
            "Epoch 14/200\n",
            "500/500 [==============================] - 173s 346ms/step - loss: 0.5693 - acc: 0.8041 - val_loss: 0.2712 - val_acc: 0.8178\n",
            "Epoch 15/200\n",
            "500/500 [==============================] - 169s 338ms/step - loss: 0.5601 - acc: 0.8086 - val_loss: 0.7962 - val_acc: 0.7713\n",
            "Epoch 16/200\n",
            "500/500 [==============================] - 167s 333ms/step - loss: 0.5620 - acc: 0.8069 - val_loss: 1.1871 - val_acc: 0.8197\n",
            "Epoch 17/200\n",
            "500/500 [==============================] - 169s 337ms/step - loss: 0.5506 - acc: 0.8141 - val_loss: 0.4505 - val_acc: 0.8112\n",
            "Epoch 18/200\n",
            "500/500 [==============================] - 161s 323ms/step - loss: 0.5394 - acc: 0.8109 - val_loss: 0.4712 - val_acc: 0.8280\n",
            "Epoch 19/200\n",
            "500/500 [==============================] - 161s 321ms/step - loss: 0.5480 - acc: 0.8141 - val_loss: 0.6166 - val_acc: 0.7922\n",
            "Epoch 20/200\n",
            "500/500 [==============================] - 163s 326ms/step - loss: 0.5356 - acc: 0.8134 - val_loss: 0.4844 - val_acc: 0.8345\n",
            "Epoch 21/200\n",
            "500/500 [==============================] - 161s 321ms/step - loss: 0.5302 - acc: 0.8170 - val_loss: 1.4072 - val_acc: 0.8158\n",
            "Epoch 22/200\n",
            "500/500 [==============================] - 161s 321ms/step - loss: 0.5411 - acc: 0.8127 - val_loss: 1.1109 - val_acc: 0.8066\n",
            "Epoch 23/200\n",
            "500/500 [==============================] - 160s 320ms/step - loss: 0.5328 - acc: 0.8152 - val_loss: 0.4191 - val_acc: 0.8167\n",
            "Epoch 24/200\n",
            "500/500 [==============================] - 162s 325ms/step - loss: 0.5136 - acc: 0.8209 - val_loss: 0.2962 - val_acc: 0.8338\n",
            "Epoch 25/200\n",
            "500/500 [==============================] - 159s 319ms/step - loss: 0.5340 - acc: 0.8158 - val_loss: 0.4799 - val_acc: 0.8054\n",
            "Epoch 26/200\n",
            "500/500 [==============================] - 169s 337ms/step - loss: 0.5282 - acc: 0.8171 - val_loss: 0.5370 - val_acc: 0.8318\n",
            "Epoch 27/200\n",
            "500/500 [==============================] - 169s 338ms/step - loss: 0.5131 - acc: 0.8214 - val_loss: 0.2577 - val_acc: 0.8052\n",
            "Epoch 28/200\n",
            "500/500 [==============================] - 169s 339ms/step - loss: 0.4862 - acc: 0.8307 - val_loss: 0.7187 - val_acc: 0.8250\n",
            "Epoch 29/200\n",
            "500/500 [==============================] - 166s 332ms/step - loss: 0.5155 - acc: 0.8234 - val_loss: 0.8499 - val_acc: 0.8297\n",
            "Epoch 30/200\n",
            "500/500 [==============================] - 169s 338ms/step - loss: 0.5188 - acc: 0.8184 - val_loss: 0.5502 - val_acc: 0.8103\n",
            "Epoch 31/200\n",
            "500/500 [==============================] - 163s 325ms/step - loss: 0.4961 - acc: 0.8278 - val_loss: 0.7513 - val_acc: 0.8266\n",
            "Epoch 32/200\n",
            "500/500 [==============================] - 165s 330ms/step - loss: 0.5163 - acc: 0.8202 - val_loss: 0.2512 - val_acc: 0.8177\n",
            "Epoch 33/200\n",
            "500/500 [==============================] - 165s 330ms/step - loss: 0.5101 - acc: 0.8260 - val_loss: 0.0797 - val_acc: 0.8457\n",
            "\n",
            "Epoch 00033: ReduceLROnPlateau reducing learning rate to 0.0005000000237487257.\n",
            "Epoch 34/200\n",
            "500/500 [==============================] - 165s 330ms/step - loss: 0.4107 - acc: 0.8527 - val_loss: 0.3930 - val_acc: 0.8627\n",
            "Epoch 35/200\n",
            "500/500 [==============================] - 170s 340ms/step - loss: 0.3850 - acc: 0.8599 - val_loss: 0.3623 - val_acc: 0.8551\n",
            "Epoch 36/200\n",
            "500/500 [==============================] - 164s 328ms/step - loss: 0.3822 - acc: 0.8598 - val_loss: 0.5703 - val_acc: 0.8605\n",
            "Epoch 37/200\n",
            "500/500 [==============================] - 170s 339ms/step - loss: 0.4005 - acc: 0.8568 - val_loss: 0.3504 - val_acc: 0.8668\n",
            "Epoch 38/200\n",
            "500/500 [==============================] - 168s 336ms/step - loss: 0.3836 - acc: 0.8594 - val_loss: 0.2429 - val_acc: 0.8587\n",
            "Epoch 39/200\n",
            "500/500 [==============================] - 172s 344ms/step - loss: 0.3765 - acc: 0.8640 - val_loss: 0.2413 - val_acc: 0.8619\n",
            "Epoch 40/200\n",
            "500/500 [==============================] - 168s 336ms/step - loss: 0.3770 - acc: 0.8621 - val_loss: 0.2390 - val_acc: 0.8656\n",
            "Epoch 41/200\n",
            "500/500 [==============================] - 169s 338ms/step - loss: 0.3778 - acc: 0.8621 - val_loss: 0.3464 - val_acc: 0.8581\n",
            "Epoch 42/200\n",
            "500/500 [==============================] - 170s 339ms/step - loss: 0.3671 - acc: 0.8647 - val_loss: 0.1182 - val_acc: 0.8657\n",
            "Epoch 43/200\n",
            "500/500 [==============================] - 180s 359ms/step - loss: 0.3827 - acc: 0.8614 - val_loss: 0.4220 - val_acc: 0.8686\n",
            "Epoch 44/200\n",
            "500/500 [==============================] - 175s 350ms/step - loss: 0.3869 - acc: 0.8607 - val_loss: 0.9999 - val_acc: 0.8635\n",
            "Epoch 45/200\n",
            "500/500 [==============================] - 170s 340ms/step - loss: 0.3793 - acc: 0.8629 - val_loss: 1.0012 - val_acc: 0.8634\n",
            "Epoch 46/200\n",
            "500/500 [==============================] - 171s 342ms/step - loss: 0.3630 - acc: 0.8688 - val_loss: 0.3549 - val_acc: 0.8689\n",
            "Epoch 47/200\n",
            "500/500 [==============================] - 175s 351ms/step - loss: 0.3763 - acc: 0.8614 - val_loss: 1.1378 - val_acc: 0.8659\n",
            "Epoch 48/200\n",
            "500/500 [==============================] - 162s 325ms/step - loss: 0.3576 - acc: 0.8665 - val_loss: 0.4734 - val_acc: 0.8591\n",
            "Epoch 49/200\n",
            "500/500 [==============================] - 162s 323ms/step - loss: 0.3645 - acc: 0.8627 - val_loss: 0.4821 - val_acc: 0.8605\n",
            "Epoch 50/200\n",
            "500/500 [==============================] - 163s 326ms/step - loss: 0.3818 - acc: 0.8592 - val_loss: 0.3769 - val_acc: 0.8645\n",
            "Epoch 51/200\n",
            "500/500 [==============================] - 164s 329ms/step - loss: 0.3839 - acc: 0.8602 - val_loss: 0.0964 - val_acc: 0.8621\n",
            "Epoch 52/200\n",
            "500/500 [==============================] - 170s 340ms/step - loss: 0.3697 - acc: 0.8631 - val_loss: 0.3401 - val_acc: 0.8625\n",
            "Epoch 53/200\n",
            "500/500 [==============================] - 171s 342ms/step - loss: 0.3629 - acc: 0.8661 - val_loss: 0.2632 - val_acc: 0.8672\n",
            "\n",
            "Epoch 00053: ReduceLROnPlateau reducing learning rate to 0.0002500000118743628.\n",
            "Epoch 54/200\n",
            "500/500 [==============================] - 167s 333ms/step - loss: 0.3305 - acc: 0.8749 - val_loss: 0.4133 - val_acc: 0.8768\n",
            "Epoch 55/200\n",
            "500/500 [==============================] - 166s 333ms/step - loss: 0.3111 - acc: 0.8821 - val_loss: 0.0545 - val_acc: 0.8795\n",
            "Epoch 56/200\n",
            "500/500 [==============================] - 178s 356ms/step - loss: 0.3209 - acc: 0.8829 - val_loss: 0.4199 - val_acc: 0.8800\n",
            "Epoch 57/200\n",
            "500/500 [==============================] - 181s 362ms/step - loss: 0.3174 - acc: 0.8826 - val_loss: 0.2276 - val_acc: 0.8802\n",
            "Epoch 58/200\n",
            "500/500 [==============================] - 165s 331ms/step - loss: 0.3133 - acc: 0.8856 - val_loss: 0.3078 - val_acc: 0.8833\n",
            "Epoch 59/200\n",
            "500/500 [==============================] - 178s 356ms/step - loss: 0.3105 - acc: 0.8800 - val_loss: 0.7793 - val_acc: 0.8815\n",
            "Epoch 60/200\n",
            "500/500 [==============================] - 166s 331ms/step - loss: 0.3039 - acc: 0.8839 - val_loss: 0.0561 - val_acc: 0.8825\n",
            "Epoch 61/200\n",
            "500/500 [==============================] - 173s 346ms/step - loss: 0.3124 - acc: 0.8801 - val_loss: 0.4989 - val_acc: 0.8873\n",
            "Epoch 62/200\n",
            "500/500 [==============================] - 176s 352ms/step - loss: 0.3162 - acc: 0.8851 - val_loss: 0.3478 - val_acc: 0.8863\n",
            "Epoch 63/200\n",
            "500/500 [==============================] - 169s 338ms/step - loss: 0.3061 - acc: 0.8847 - val_loss: 0.3444 - val_acc: 0.8796\n",
            "Epoch 64/200\n",
            "500/500 [==============================] - 174s 348ms/step - loss: 0.3223 - acc: 0.8846 - val_loss: 0.0312 - val_acc: 0.8768\n",
            "Epoch 65/200\n",
            "500/500 [==============================] - 172s 345ms/step - loss: 0.2962 - acc: 0.8899 - val_loss: 0.1625 - val_acc: 0.8838\n",
            "Epoch 66/200\n",
            "500/500 [==============================] - 174s 347ms/step - loss: 0.3054 - acc: 0.8837 - val_loss: 0.3511 - val_acc: 0.8831\n",
            "Epoch 67/200\n",
            "500/500 [==============================] - 173s 345ms/step - loss: 0.3063 - acc: 0.8846 - val_loss: 0.4195 - val_acc: 0.8809\n",
            "Epoch 68/200\n",
            "500/500 [==============================] - 170s 340ms/step - loss: 0.3125 - acc: 0.8801 - val_loss: 0.3217 - val_acc: 0.8836\n",
            "Epoch 69/200\n",
            "500/500 [==============================] - 180s 359ms/step - loss: 0.3065 - acc: 0.8836 - val_loss: 0.3910 - val_acc: 0.8840\n",
            "Epoch 70/200\n",
            "500/500 [==============================] - 178s 356ms/step - loss: 0.2961 - acc: 0.8872 - val_loss: 0.5390 - val_acc: 0.8825\n",
            "\n",
            "Epoch 00070: ReduceLROnPlateau reducing learning rate to 0.0001250000059371814.\n",
            "Epoch 71/200\n",
            "500/500 [==============================] - 171s 342ms/step - loss: 0.2775 - acc: 0.8938 - val_loss: 0.3077 - val_acc: 0.8896\n",
            "Epoch 72/200\n",
            "500/500 [==============================] - 174s 348ms/step - loss: 0.2830 - acc: 0.8954 - val_loss: 0.1323 - val_acc: 0.8939\n",
            "Epoch 73/200\n",
            "500/500 [==============================] - 163s 326ms/step - loss: 0.2845 - acc: 0.8923 - val_loss: 0.2834 - val_acc: 0.8916\n",
            "Epoch 74/200\n",
            "500/500 [==============================] - 180s 361ms/step - loss: 0.2745 - acc: 0.8965 - val_loss: 0.2822 - val_acc: 0.8923\n",
            "Epoch 75/200\n",
            "500/500 [==============================] - 175s 349ms/step - loss: 0.2694 - acc: 0.8973 - val_loss: 0.2041 - val_acc: 0.8906\n",
            "Epoch 76/200\n",
            "500/500 [==============================] - 166s 331ms/step - loss: 0.2805 - acc: 0.8931 - val_loss: 0.9636 - val_acc: 0.8949\n",
            "Epoch 77/200\n",
            "500/500 [==============================] - 174s 349ms/step - loss: 0.2698 - acc: 0.8963 - val_loss: 0.3004 - val_acc: 0.8946\n",
            "Epoch 78/200\n",
            "500/500 [==============================] - 167s 335ms/step - loss: 0.2758 - acc: 0.8929 - val_loss: 0.0954 - val_acc: 0.8924\n",
            "Epoch 79/200\n",
            "500/500 [==============================] - 164s 328ms/step - loss: 0.2684 - acc: 0.8963 - val_loss: 0.1409 - val_acc: 0.8929\n",
            "Epoch 80/200\n",
            "500/500 [==============================] - 170s 340ms/step - loss: 0.2694 - acc: 0.9008 - val_loss: 0.4351 - val_acc: 0.8956\n",
            "Epoch 81/200\n",
            "500/500 [==============================] - 167s 334ms/step - loss: 0.2746 - acc: 0.8919 - val_loss: 0.4513 - val_acc: 0.8921\n",
            "Epoch 82/200\n",
            "500/500 [==============================] - 170s 339ms/step - loss: 0.2749 - acc: 0.8946 - val_loss: 0.2254 - val_acc: 0.8906\n",
            "Epoch 83/200\n",
            "500/500 [==============================] - 166s 333ms/step - loss: 0.2683 - acc: 0.8984 - val_loss: 0.5512 - val_acc: 0.8931\n",
            "Epoch 84/200\n",
            "500/500 [==============================] - 166s 333ms/step - loss: 0.2687 - acc: 0.8959 - val_loss: 0.2273 - val_acc: 0.8909\n",
            "\n",
            "Epoch 00084: ReduceLROnPlateau reducing learning rate to 6.25000029685907e-05.\n",
            "Epoch 85/200\n",
            "500/500 [==============================] - 166s 332ms/step - loss: 0.2685 - acc: 0.8953 - val_loss: 0.2326 - val_acc: 0.8986\n",
            "Epoch 86/200\n",
            "500/500 [==============================] - 167s 334ms/step - loss: 0.2589 - acc: 0.8990 - val_loss: 0.1613 - val_acc: 0.8991\n",
            "Epoch 87/200\n",
            "500/500 [==============================] - 164s 328ms/step - loss: 0.2598 - acc: 0.8997 - val_loss: 0.3071 - val_acc: 0.8967\n",
            "Epoch 88/200\n",
            "500/500 [==============================] - 186s 373ms/step - loss: 0.2567 - acc: 0.9013 - val_loss: 0.1836 - val_acc: 0.8983\n",
            "Epoch 89/200\n",
            "500/500 [==============================] - 189s 378ms/step - loss: 0.2636 - acc: 0.8990 - val_loss: 0.5048 - val_acc: 0.8966\n",
            "Epoch 90/200\n",
            "500/500 [==============================] - 189s 378ms/step - loss: 0.2503 - acc: 0.9006 - val_loss: 0.2196 - val_acc: 0.8967\n",
            "Epoch 91/200\n",
            "500/500 [==============================] - 190s 380ms/step - loss: 0.2582 - acc: 0.8992 - val_loss: 0.1530 - val_acc: 0.8990\n",
            "Epoch 92/200\n",
            "500/500 [==============================] - 188s 376ms/step - loss: 0.2653 - acc: 0.8993 - val_loss: 0.2805 - val_acc: 0.8963\n",
            "Epoch 93/200\n",
            "500/500 [==============================] - 180s 359ms/step - loss: 0.2558 - acc: 0.8993 - val_loss: 0.2451 - val_acc: 0.9000\n",
            "Epoch 94/200\n",
            "500/500 [==============================] - 182s 363ms/step - loss: 0.2459 - acc: 0.9046 - val_loss: 0.0928 - val_acc: 0.8996\n",
            "Epoch 95/200\n",
            "500/500 [==============================] - 178s 357ms/step - loss: 0.2527 - acc: 0.9012 - val_loss: 0.1732 - val_acc: 0.9002\n",
            "Epoch 96/200\n",
            "500/500 [==============================] - 172s 344ms/step - loss: 0.2529 - acc: 0.9007 - val_loss: 0.1997 - val_acc: 0.9010\n",
            "Epoch 97/200\n",
            "500/500 [==============================] - 167s 334ms/step - loss: 0.2511 - acc: 0.9021 - val_loss: 0.3576 - val_acc: 0.8973\n",
            "Epoch 98/200\n",
            "500/500 [==============================] - 165s 330ms/step - loss: 0.2582 - acc: 0.9016 - val_loss: 0.1342 - val_acc: 0.9022\n",
            "Epoch 99/200\n",
            "500/500 [==============================] - 167s 334ms/step - loss: 0.2532 - acc: 0.9009 - val_loss: 0.1113 - val_acc: 0.8984\n",
            "\n",
            "Epoch 00099: ReduceLROnPlateau reducing learning rate to 3.125000148429535e-05.\n",
            "Epoch 100/200\n",
            "500/500 [==============================] - 170s 340ms/step - loss: 0.2536 - acc: 0.9016 - val_loss: 0.1699 - val_acc: 0.9006\n",
            "Epoch 101/200\n",
            "500/500 [==============================] - 167s 335ms/step - loss: 0.2421 - acc: 0.9089 - val_loss: 0.2381 - val_acc: 0.9010\n",
            "Epoch 102/200\n",
            "500/500 [==============================] - 166s 331ms/step - loss: 0.2475 - acc: 0.9026 - val_loss: 0.1666 - val_acc: 0.8978\n",
            "Epoch 103/200\n",
            "500/500 [==============================] - 167s 333ms/step - loss: 0.2444 - acc: 0.9061 - val_loss: 0.1109 - val_acc: 0.9004\n",
            "Epoch 104/200\n",
            "500/500 [==============================] - 165s 330ms/step - loss: 0.2454 - acc: 0.9065 - val_loss: 0.1145 - val_acc: 0.9004\n",
            "Epoch 105/200\n",
            "500/500 [==============================] - 172s 344ms/step - loss: 0.2491 - acc: 0.9024 - val_loss: 0.1036 - val_acc: 0.9018\n",
            "Epoch 106/200\n",
            "500/500 [==============================] - 182s 364ms/step - loss: 0.2491 - acc: 0.9057 - val_loss: 0.1717 - val_acc: 0.9021\n",
            "\n",
            "Epoch 00106: ReduceLROnPlateau reducing learning rate to 1.5625000742147677e-05.\n",
            "Epoch 107/200\n",
            "500/500 [==============================] - 183s 365ms/step - loss: 0.2323 - acc: 0.9087 - val_loss: 0.0304 - val_acc: 0.8996\n",
            "Epoch 108/200\n",
            "500/500 [==============================] - 183s 367ms/step - loss: 0.2446 - acc: 0.9058 - val_loss: 0.2526 - val_acc: 0.9016\n",
            "Epoch 109/200\n",
            "500/500 [==============================] - 183s 366ms/step - loss: 0.2421 - acc: 0.9060 - val_loss: 0.0911 - val_acc: 0.9010\n",
            "Epoch 110/200\n",
            "500/500 [==============================] - 185s 369ms/step - loss: 0.2394 - acc: 0.9028 - val_loss: 0.0362 - val_acc: 0.9028\n",
            "Epoch 111/200\n",
            "500/500 [==============================] - 183s 366ms/step - loss: 0.2458 - acc: 0.9035 - val_loss: 0.3648 - val_acc: 0.9013\n",
            "Epoch 112/200\n",
            "500/500 [==============================] - 180s 360ms/step - loss: 0.2371 - acc: 0.9074 - val_loss: 0.1121 - val_acc: 0.9028\n",
            "\n",
            "Epoch 00112: ReduceLROnPlateau reducing learning rate to 7.812500371073838e-06.\n",
            "Epoch 113/200\n",
            "500/500 [==============================] - 174s 348ms/step - loss: 0.2340 - acc: 0.9123 - val_loss: 0.5151 - val_acc: 0.9029\n",
            "Epoch 114/200\n",
            "500/500 [==============================] - 178s 356ms/step - loss: 0.2474 - acc: 0.9044 - val_loss: 0.2690 - val_acc: 0.9012\n",
            "Epoch 115/200\n",
            "500/500 [==============================] - 171s 342ms/step - loss: 0.2292 - acc: 0.9106 - val_loss: 0.0972 - val_acc: 0.9007\n",
            "Epoch 116/200\n",
            "500/500 [==============================] - 164s 328ms/step - loss: 0.2332 - acc: 0.9083 - val_loss: 0.1351 - val_acc: 0.9027\n",
            "Epoch 117/200\n",
            "500/500 [==============================] - 170s 340ms/step - loss: 0.2433 - acc: 0.9038 - val_loss: 0.3460 - val_acc: 0.9020\n",
            "Epoch 118/200\n",
            "500/500 [==============================] - 166s 333ms/step - loss: 0.2391 - acc: 0.9091 - val_loss: 0.2419 - val_acc: 0.9035\n",
            "Epoch 119/200\n",
            "500/500 [==============================] - 169s 338ms/step - loss: 0.2363 - acc: 0.9079 - val_loss: 0.2207 - val_acc: 0.9000\n",
            "Epoch 120/200\n",
            "500/500 [==============================] - 167s 334ms/step - loss: 0.2430 - acc: 0.9040 - val_loss: 0.2812 - val_acc: 0.9013\n",
            "\n",
            "Epoch 00120: ReduceLROnPlateau reducing learning rate to 3.906250185536919e-06.\n",
            "Epoch 121/200\n",
            "500/500 [==============================] - 178s 356ms/step - loss: 0.2452 - acc: 0.9032 - val_loss: 0.0709 - val_acc: 0.9009\n",
            "Epoch 122/200\n",
            "500/500 [==============================] - 170s 339ms/step - loss: 0.2464 - acc: 0.9069 - val_loss: 0.1006 - val_acc: 0.9009\n",
            "Epoch 123/200\n",
            "500/500 [==============================] - 168s 336ms/step - loss: 0.2388 - acc: 0.9056 - val_loss: 0.4093 - val_acc: 0.9010\n",
            "Epoch 124/200\n",
            "500/500 [==============================] - 171s 342ms/step - loss: 0.2341 - acc: 0.9088 - val_loss: 0.1394 - val_acc: 0.9031\n",
            "Epoch 125/200\n",
            "500/500 [==============================] - 164s 328ms/step - loss: 0.2332 - acc: 0.9081 - val_loss: 0.2699 - val_acc: 0.9014\n",
            "\n",
            "Epoch 00125: ReduceLROnPlateau reducing learning rate to 1.9531250927684596e-06.\n",
            "Epoch 126/200\n",
            "500/500 [==============================] - 165s 330ms/step - loss: 0.2359 - acc: 0.9071 - val_loss: 0.1937 - val_acc: 0.9023\n",
            "Epoch 127/200\n",
            "500/500 [==============================] - 169s 338ms/step - loss: 0.2321 - acc: 0.9109 - val_loss: 0.1058 - val_acc: 0.9020\n",
            "Epoch 128/200\n",
            "500/500 [==============================] - 167s 335ms/step - loss: 0.2333 - acc: 0.9093 - val_loss: 0.1354 - val_acc: 0.9048\n",
            "Epoch 129/200\n",
            "500/500 [==============================] - 168s 335ms/step - loss: 0.2371 - acc: 0.9073 - val_loss: 0.2104 - val_acc: 0.9012\n",
            "Epoch 130/200\n",
            "500/500 [==============================] - 165s 330ms/step - loss: 0.2349 - acc: 0.9096 - val_loss: 0.1014 - val_acc: 0.9027\n",
            "\n",
            "Epoch 00130: ReduceLROnPlateau reducing learning rate to 9.765625463842298e-07.\n",
            "Epoch 131/200\n",
            "500/500 [==============================] - 163s 326ms/step - loss: 0.2355 - acc: 0.9107 - val_loss: 0.1101 - val_acc: 0.9059\n",
            "Epoch 132/200\n",
            "500/500 [==============================] - 163s 325ms/step - loss: 0.2343 - acc: 0.9075 - val_loss: 0.1505 - val_acc: 0.9026\n",
            "Epoch 133/200\n",
            "500/500 [==============================] - 162s 324ms/step - loss: 0.2352 - acc: 0.9028 - val_loss: 0.9139 - val_acc: 0.9026\n",
            "Epoch 134/200\n",
            "500/500 [==============================] - 162s 324ms/step - loss: 0.2439 - acc: 0.9056 - val_loss: 0.2185 - val_acc: 0.9052\n",
            "Epoch 135/200\n",
            "500/500 [==============================] - 167s 334ms/step - loss: 0.2368 - acc: 0.9036 - val_loss: 0.0882 - val_acc: 0.9018\n",
            "\n",
            "Epoch 00135: ReduceLROnPlateau reducing learning rate to 4.882812731921149e-07.\n",
            "Epoch 136/200\n",
            "500/500 [==============================] - 163s 325ms/step - loss: 0.2394 - acc: 0.9057 - val_loss: 0.2846 - val_acc: 0.9001\n",
            "Epoch 137/200\n",
            "500/500 [==============================] - 162s 323ms/step - loss: 0.2361 - acc: 0.9069 - val_loss: 0.1214 - val_acc: 0.9005\n",
            "Epoch 138/200\n",
            "500/500 [==============================] - 164s 329ms/step - loss: 0.2353 - acc: 0.9096 - val_loss: 0.4131 - val_acc: 0.9035\n",
            "Epoch 139/200\n",
            "500/500 [==============================] - 166s 332ms/step - loss: 0.2343 - acc: 0.9089 - val_loss: 0.1051 - val_acc: 0.9013\n",
            "Epoch 140/200\n",
            "500/500 [==============================] - 163s 326ms/step - loss: 0.2417 - acc: 0.9049 - val_loss: 0.1879 - val_acc: 0.9010\n",
            "\n",
            "Epoch 00140: ReduceLROnPlateau reducing learning rate to 2.4414063659605745e-07.\n",
            "Epoch 141/200\n",
            "500/500 [==============================] - 163s 326ms/step - loss: 0.2338 - acc: 0.9095 - val_loss: 0.0811 - val_acc: 0.8984\n",
            "Epoch 142/200\n",
            "500/500 [==============================] - 164s 329ms/step - loss: 0.2387 - acc: 0.9074 - val_loss: 0.2929 - val_acc: 0.9024\n",
            "Epoch 143/200\n",
            "500/500 [==============================] - 162s 325ms/step - loss: 0.2292 - acc: 0.9128 - val_loss: 0.0585 - val_acc: 0.9036\n",
            "Epoch 144/200\n",
            "500/500 [==============================] - 162s 324ms/step - loss: 0.2351 - acc: 0.9078 - val_loss: 0.1642 - val_acc: 0.9013\n",
            "Epoch 145/200\n",
            "500/500 [==============================] - 162s 323ms/step - loss: 0.2386 - acc: 0.9072 - val_loss: 0.1183 - val_acc: 0.8996\n",
            "\n",
            "Epoch 00145: ReduceLROnPlateau reducing learning rate to 1.2207031829802872e-07.\n",
            "Epoch 146/200\n",
            "500/500 [==============================] - 161s 322ms/step - loss: 0.2411 - acc: 0.9026 - val_loss: 0.3423 - val_acc: 0.9003\n",
            "Epoch 147/200\n",
            "500/500 [==============================] - 162s 323ms/step - loss: 0.2355 - acc: 0.9091 - val_loss: 0.1532 - val_acc: 0.9031\n",
            "Epoch 148/200\n",
            "500/500 [==============================] - 162s 323ms/step - loss: 0.2353 - acc: 0.9075 - val_loss: 0.1928 - val_acc: 0.9029\n",
            "Epoch 149/200\n",
            "500/500 [==============================] - 164s 329ms/step - loss: 0.2355 - acc: 0.9079 - val_loss: 0.3933 - val_acc: 0.9015\n",
            "Epoch 150/200\n",
            "500/500 [==============================] - 163s 326ms/step - loss: 0.2347 - acc: 0.9099 - val_loss: 0.1938 - val_acc: 0.9030\n",
            "\n",
            "Epoch 00150: ReduceLROnPlateau reducing learning rate to 1e-07.\n",
            "Epoch 151/200\n",
            "500/500 [==============================] - 164s 328ms/step - loss: 0.2365 - acc: 0.9096 - val_loss: 0.1158 - val_acc: 0.9022\n",
            "Epoch 152/200\n",
            "500/500 [==============================] - 180s 359ms/step - loss: 0.2328 - acc: 0.9064 - val_loss: 0.5055 - val_acc: 0.9038\n",
            "Epoch 153/200\n",
            "500/500 [==============================] - 179s 359ms/step - loss: 0.2386 - acc: 0.9056 - val_loss: 0.0448 - val_acc: 0.9015\n",
            "Epoch 154/200\n",
            "500/500 [==============================] - 180s 359ms/step - loss: 0.2395 - acc: 0.9086 - val_loss: 0.4596 - val_acc: 0.9055\n",
            "Epoch 155/200\n",
            "500/500 [==============================] - 181s 362ms/step - loss: 0.2331 - acc: 0.9098 - val_loss: 0.3224 - val_acc: 0.9049\n",
            "\n",
            "Epoch 00155: ReduceLROnPlateau reducing learning rate to 1e-07.\n",
            "Epoch 156/200\n",
            "500/500 [==============================] - 182s 363ms/step - loss: 0.2266 - acc: 0.9099 - val_loss: 1.0419 - val_acc: 0.9002\n",
            "Epoch 157/200\n",
            "500/500 [==============================] - 180s 360ms/step - loss: 0.2372 - acc: 0.9069 - val_loss: 0.2122 - val_acc: 0.9005\n",
            "Epoch 158/200\n",
            "500/500 [==============================] - 178s 357ms/step - loss: 0.2333 - acc: 0.9104 - val_loss: 0.2889 - val_acc: 0.8997\n",
            "Epoch 159/200\n",
            "500/500 [==============================] - 178s 355ms/step - loss: 0.2370 - acc: 0.9059 - val_loss: 0.2301 - val_acc: 0.9027\n",
            "Epoch 160/200\n",
            "500/500 [==============================] - 179s 359ms/step - loss: 0.2315 - acc: 0.9107 - val_loss: 0.3219 - val_acc: 0.9017\n",
            "Epoch 161/200\n",
            "500/500 [==============================] - 179s 357ms/step - loss: 0.2346 - acc: 0.9085 - val_loss: 0.1749 - val_acc: 0.9022\n",
            "\n",
            "Epoch 00161: ReduceLROnPlateau reducing learning rate to 1e-07.\n",
            "Epoch 162/200\n",
            "500/500 [==============================] - 167s 334ms/step - loss: 0.2356 - acc: 0.9066 - val_loss: 0.2352 - val_acc: 0.9027\n",
            "Epoch 163/200\n",
            "500/500 [==============================] - 168s 336ms/step - loss: 0.2358 - acc: 0.9053 - val_loss: 0.2167 - val_acc: 0.9027\n",
            "Epoch 164/200\n",
            "500/500 [==============================] - 167s 335ms/step - loss: 0.2398 - acc: 0.9067 - val_loss: 0.1517 - val_acc: 0.9024\n",
            "Epoch 165/200\n",
            "500/500 [==============================] - 165s 330ms/step - loss: 0.2377 - acc: 0.9070 - val_loss: 0.1054 - val_acc: 0.9032\n",
            "Epoch 166/200\n",
            "500/500 [==============================] - 166s 332ms/step - loss: 0.2371 - acc: 0.9040 - val_loss: 0.2763 - val_acc: 0.9028\n",
            "\n",
            "Epoch 00166: ReduceLROnPlateau reducing learning rate to 1e-07.\n",
            "Epoch 167/200\n",
            "500/500 [==============================] - 164s 328ms/step - loss: 0.2341 - acc: 0.9104 - val_loss: 0.1086 - val_acc: 0.9012\n",
            "Epoch 168/200\n",
            "500/500 [==============================] - 169s 339ms/step - loss: 0.2394 - acc: 0.9072 - val_loss: 0.3195 - val_acc: 0.9014\n",
            "Epoch 169/200\n",
            "500/500 [==============================] - 179s 357ms/step - loss: 0.2328 - acc: 0.9096 - val_loss: 0.4890 - val_acc: 0.9036\n",
            "Epoch 170/200\n",
            "500/500 [==============================] - 176s 352ms/step - loss: 0.2307 - acc: 0.9102 - val_loss: 0.0810 - val_acc: 0.8996\n",
            "Epoch 171/200\n",
            "500/500 [==============================] - 168s 336ms/step - loss: 0.2430 - acc: 0.9058 - val_loss: 0.1111 - val_acc: 0.9021\n",
            "\n",
            "Epoch 00171: ReduceLROnPlateau reducing learning rate to 1e-07.\n",
            "Epoch 172/200\n",
            "500/500 [==============================] - 172s 343ms/step - loss: 0.2324 - acc: 0.9074 - val_loss: 0.0902 - val_acc: 0.9020\n",
            "Epoch 173/200\n",
            "500/500 [==============================] - 173s 346ms/step - loss: 0.2397 - acc: 0.9057 - val_loss: 0.1858 - val_acc: 0.9044\n",
            "Epoch 174/200\n",
            "500/500 [==============================] - 170s 340ms/step - loss: 0.2322 - acc: 0.9101 - val_loss: 0.3189 - val_acc: 0.9015\n",
            "Epoch 175/200\n",
            "500/500 [==============================] - 179s 357ms/step - loss: 0.2390 - acc: 0.9064 - val_loss: 0.7845 - val_acc: 0.9023\n",
            "Epoch 176/200\n",
            "500/500 [==============================] - 186s 372ms/step - loss: 0.2370 - acc: 0.9097 - val_loss: 0.2821 - val_acc: 0.9014\n",
            "\n",
            "Epoch 00176: ReduceLROnPlateau reducing learning rate to 1e-07.\n",
            "Epoch 177/200\n",
            "500/500 [==============================] - 183s 367ms/step - loss: 0.2337 - acc: 0.9065 - val_loss: 0.1985 - val_acc: 0.9025\n",
            "Epoch 178/200\n",
            "500/500 [==============================] - 183s 366ms/step - loss: 0.2369 - acc: 0.9056 - val_loss: 0.4158 - val_acc: 0.9035\n",
            "Epoch 179/200\n",
            "500/500 [==============================] - 185s 369ms/step - loss: 0.2396 - acc: 0.9081 - val_loss: 0.2071 - val_acc: 0.9012\n",
            "Epoch 180/200\n",
            "500/500 [==============================] - 183s 367ms/step - loss: 0.2330 - acc: 0.9078 - val_loss: 0.3852 - val_acc: 0.9026\n",
            "Epoch 181/200\n",
            "500/500 [==============================] - 176s 353ms/step - loss: 0.2287 - acc: 0.9106 - val_loss: 0.2834 - val_acc: 0.9035\n",
            "\n",
            "Epoch 00181: ReduceLROnPlateau reducing learning rate to 1e-07.\n",
            "Epoch 182/200\n",
            "500/500 [==============================] - 167s 333ms/step - loss: 0.2348 - acc: 0.9062 - val_loss: 0.3069 - val_acc: 0.9015\n",
            "Epoch 183/200\n",
            "500/500 [==============================] - 165s 329ms/step - loss: 0.2358 - acc: 0.9095 - val_loss: 0.2529 - val_acc: 0.9024\n",
            "Epoch 184/200\n",
            "500/500 [==============================] - 165s 330ms/step - loss: 0.2410 - acc: 0.9067 - val_loss: 0.0878 - val_acc: 0.9045\n",
            "Epoch 185/200\n",
            "500/500 [==============================] - 167s 334ms/step - loss: 0.2350 - acc: 0.9088 - val_loss: 0.2623 - val_acc: 0.9015\n",
            "Epoch 186/200\n",
            "500/500 [==============================] - 169s 337ms/step - loss: 0.2386 - acc: 0.9029 - val_loss: 0.6000 - val_acc: 0.9030\n",
            "\n",
            "Epoch 00186: ReduceLROnPlateau reducing learning rate to 1e-07.\n",
            "Epoch 187/200\n",
            "500/500 [==============================] - 168s 335ms/step - loss: 0.2389 - acc: 0.9101 - val_loss: 0.0522 - val_acc: 0.9006\n",
            "Epoch 188/200\n",
            "500/500 [==============================] - 169s 337ms/step - loss: 0.2331 - acc: 0.9089 - val_loss: 0.2329 - val_acc: 0.9028\n",
            "Epoch 189/200\n",
            "500/500 [==============================] - 173s 346ms/step - loss: 0.2314 - acc: 0.9107 - val_loss: 0.1055 - val_acc: 0.9012\n",
            "Epoch 190/200\n",
            "500/500 [==============================] - 170s 339ms/step - loss: 0.2394 - acc: 0.9025 - val_loss: 0.1568 - val_acc: 0.9004\n",
            "Epoch 191/200\n",
            "500/500 [==============================] - 171s 342ms/step - loss: 0.2430 - acc: 0.9082 - val_loss: 0.1620 - val_acc: 0.9022\n",
            "\n",
            "Epoch 00191: ReduceLROnPlateau reducing learning rate to 1e-07.\n",
            "Epoch 192/200\n",
            "500/500 [==============================] - 166s 333ms/step - loss: 0.2371 - acc: 0.9084 - val_loss: 0.1168 - val_acc: 0.9012\n",
            "Epoch 193/200\n",
            "500/500 [==============================] - 163s 326ms/step - loss: 0.2349 - acc: 0.9084 - val_loss: 0.1275 - val_acc: 0.9031\n",
            "Epoch 194/200\n",
            "500/500 [==============================] - 166s 333ms/step - loss: 0.2337 - acc: 0.9076 - val_loss: 0.1312 - val_acc: 0.9013\n",
            "Epoch 195/200\n",
            "500/500 [==============================] - 169s 337ms/step - loss: 0.2311 - acc: 0.9089 - val_loss: 0.1623 - val_acc: 0.9030\n",
            "Epoch 196/200\n",
            "500/500 [==============================] - 168s 336ms/step - loss: 0.2392 - acc: 0.9063 - val_loss: 0.0899 - val_acc: 0.9012\n",
            "\n",
            "Epoch 00196: ReduceLROnPlateau reducing learning rate to 1e-07.\n",
            "Epoch 197/200\n",
            "500/500 [==============================] - 165s 330ms/step - loss: 0.2314 - acc: 0.9098 - val_loss: 0.2541 - val_acc: 0.9014\n",
            "Epoch 198/200\n",
            "500/500 [==============================] - 165s 330ms/step - loss: 0.2288 - acc: 0.9076 - val_loss: 0.4701 - val_acc: 0.9038\n",
            "Epoch 199/200\n",
            "500/500 [==============================] - 166s 333ms/step - loss: 0.2419 - acc: 0.9074 - val_loss: 0.4857 - val_acc: 0.9020\n",
            "Epoch 200/200\n",
            "500/500 [==============================] - 172s 344ms/step - loss: 0.2322 - acc: 0.9089 - val_loss: 0.1236 - val_acc: 0.9027\n"
          ],
          "name": "stdout"
        }
      ]
    },
    {
      "cell_type": "code",
      "metadata": {
        "id": "vJb9w3c0cCHd",
        "colab_type": "code",
        "colab": {
          "base_uri": "https://localhost:8080/",
          "height": 290
        },
        "outputId": "7230d8e9-ca79-4ba1-ad50-75af02c0e585"
      },
      "source": [
        "import matplotlib.pyplot as plt\n",
        "plt.semilogx(history.history[\"lr\"], history.history[\"loss\"])\n",
        "plt.axis([1e-5, 1e-1, 0.5, 4])"
      ],
      "execution_count": null,
      "outputs": [
        {
          "output_type": "execute_result",
          "data": {
            "text/plain": [
              "(1e-05, 0.1, 0.5, 4.0)"
            ]
          },
          "metadata": {
            "tags": []
          },
          "execution_count": 23
        },
        {
          "output_type": "display_data",
          "data": {
            "image/png": "[encoded data removed]",
            "text/plain": [
              "<Figure size 432x288 with 1 Axes>"
            ]
          },
          "metadata": {
            "tags": [],
            "needs_background": "light"
          }
        }
      ]
    },
    {
      "cell_type": "code",
      "metadata": {
        "id": "Ne3jWrWYcCoN",
        "colab_type": "code",
        "colab": {
          "base_uri": "https://localhost:8080/",
          "height": 545
        },
        "outputId": "048ac18f-1732-406e-e1f1-f989e060c981"
      },
      "source": [
        "import matplotlib.pyplot as plt\n",
        "acc = history.history['acc']\n",
        "val_acc = history.history['val_acc']\n",
        "loss = history.history['loss']\n",
        "val_loss = history.history['val_loss']\n",
        "epochs = range(1, len(acc) + 1) \n",
        "plt.plot(epochs, acc, 'bo', label='Training acc')\n",
        "plt.plot(epochs, val_acc, 'b', label='Validation acc')\n",
        "plt.title('Training and validation accuracy')\n",
        "plt.legend()\n",
        "plt.figure()\n",
        "plt.plot(epochs, loss, 'bo', label='Training loss')\n",
        "plt.plot(epochs, val_loss, 'b', label='Validation loss')\n",
        "plt.title('Training and validation loss')\n",
        "plt.legend()\n",
        "plt.show()"
      ],
      "execution_count": null,
      "outputs": [
        {
          "output_type": "display_data",
          "data": {
            "image/png": "[encoded data removed]",
            "text/plain": [
              "<Figure size 432x288 with 1 Axes>"
            ]
          },
          "metadata": {
            "tags": [],
            "needs_background": "light"
          }
        },
        {
          "output_type": "display_data",
          "data": {
            "image/png": "[encoded data removed]",
            "text/plain": [
              "<Figure size 432x288 with 1 Axes>"
            ]
          },
          "metadata": {
            "tags": [],
            "needs_background": "light"
          }
        }
      ]
    },
    {
      "cell_type": "code",
      "metadata": {
        "id": "g4g-wpiXcGMo",
        "colab_type": "code",
        "colab": {}
      },
      "source": [
        ""
      ],
      "execution_count": null,
      "outputs": []
    }
  ]
}